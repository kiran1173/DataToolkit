{
  "cells": [
    {
      "cell_type": "markdown",
      "metadata": {
        "id": "Bi5D6yID0rg4"
      },
      "source": [
        "#Restful API and Flask"
      ]
    },
    {
      "cell_type": "markdown",
      "metadata": {
        "id": "QgrgIEe90u2Q"
      },
      "source": [
        "# 1. What is a RESTful API?\n",
        "   - A RESTful API is a way of designing and exposing web services that follow the REST (Representational State Transfer) principles. In REST, resources (such as users, products, or books) are identified by unique URLs, and clients interact with these resources using standard HTTP methods like GET (read), POST (create), PUT (update), and DELETE (remove). RESTful APIs are stateless, meaning each request from a client to the server must contain all the information needed to process it. They are widely used in modern web applications because they are lightweight, scalable, and easy to integrate with different platforms."
      ]
    },
    {
      "cell_type": "markdown",
      "metadata": {
        "id": "S7vq_Q5z2lGd"
      },
      "source": [
        "# 2. Explain the concept of API specification.\n",
        "  - An API specification is like a contract that clearly defines how an API should work. It describes all available endpoints, HTTP methods, request parameters, headers, authentication requirements, and the expected response format (usually JSON or XML). A good specification makes it easier for developers to integrate the API into their applications without needing to look at the backend code. Common tools like OpenAPI/Swagger allow developers to create API documentation that is interactive and testable."
      ]
    },
    {
      "cell_type": "markdown",
      "metadata": {
        "id": "3FzJ2Ts73Eac"
      },
      "source": [
        "# 3. What is Flask, and why is it popular for building APIs?\n",
        "  - Flask is a lightweight Python web framework that is designed to be simple yet powerful. Unlike heavy frameworks such as Django, Flask provides only the core features required to build web apps and APIs, while giving developers the flexibility to choose additional tools when needed. Flask is popular for APIs because it is easy to learn, quick to set up, and highly extensible. With Flask, you can build a fully functional API in just a few lines of code, making it ideal for beginners, prototypes, and even production-ready services."
      ]
    },
    {
      "cell_type": "markdown",
      "metadata": {
        "id": "CEhJZylE3gfD"
      },
      "source": [
        "# 4. What is routing in Flask?\n",
        "   - Routing in Flask is the process of mapping a specific URL path to a Python function, which is called a view function. When a client (browser or API consumer) sends a request to a URL, Flask looks at its routing table and decides which function to call. Each route is defined using the @app.route() decorator, which allows you to bind URLs to functions. Routing makes it easy to create multiple pages or API endpoints in a Flask app. For example, /home may show a welcome message, while /users may return a list of users. Without routing, Flask would not know how to handle different client requests.\n"
      ]
    },
    {
      "cell_type": "markdown",
      "metadata": {
        "id": "rXjDRkLR30LP"
      },
      "source": [
        "# 5. How do you create a simple Flask application?\n",
        "   - Creating a simple Flask application involves three main steps: importing Flask, creating an instance of the Flask class, and defining at least one route with a function. Flask automatically starts a development server that runs locally so developers can test their apps. This makes Flask ideal for quickly building and testing applications. The simplicity of setup is one reason Flask is so widely used."
      ]
    },
    {
      "cell_type": "markdown",
      "metadata": {
        "id": "6xMrJR354C6W"
      },
      "source": [
        "# 6. What are HTTP methods used in RESTful APIs?\n",
        "   - RESTful APIs use HTTP methods to perform actions on resources. The most common are:\n",
        "\n",
        "   - GET: Retrieve data (e.g., get a user’s profile).\n",
        "\n",
        "   - POST: Create a new resource (e.g., add a new user).\n",
        "\n",
        "   - PUT: Update an existing resource  completely.\n",
        "\n",
        "   - PATCH: Partially update an existing resource.\n",
        "\n",
        "   - DELETE: Remove a resource.\n",
        "   Each method has a specific purpose, ensuring that APIs are standardized and easy to understand."
      ]
    },
    {
      "cell_type": "markdown",
      "metadata": {
        "id": "y5SUhIs84Zhk"
      },
      "source": [
        "# 7.  What is the purpose of the @app.route() decorator in Flask?\n",
        "  - The @app.route() decorator in Flask is used to bind a URL path to a specific function. This decorator tells Flask that whenever a client accesses that URL, the associated function should be executed. Without this, Flask wouldn’t know which function to run for a given request. It is one of the most essential parts of a Flask app, enabling developers to easily define multiple routes and endpoints."
      ]
    },
    {
      "cell_type": "markdown",
      "metadata": {
        "id": "Lg5cl7KI4zE6"
      },
      "source": [
        "# 8. What is the difference between GET and POST HTTP methods?\n",
        "  - The GET method is used to request data from a server and typically sends parameters via the URL (query strings). It is mostly used for reading or fetching information. The POST method, on the other hand, is used to send data to the server in the body of the request. It is commonly used for creating or submitting new data such as forms or JSON objects. GET requests are visible in the URL, while POST requests hide the data in the request body, making POST more secure for sensitive information."
      ]
    },
    {
      "cell_type": "markdown",
      "metadata": {
        "id": "yeYQkaXG4931"
      },
      "source": [
        "# 9. How do you handle errors in Flask APIs?\n",
        "  - Error handling in Flask APIs is very important because it improves user experience and makes debugging easier. By default, Flask shows raw error messages such as 404 Not Found or 500 Internal Server Error, but in an API, it is better to send errors in a structured format (like JSON) so that clients (mobile apps, frontend apps, or other APIs) can understand and process them. Flask provides the @app.errorhandler() decorator, which allows developers to define custom error responses for specific error codes. For example, when a user tries to access a route that does not exist, instead of showing an HTML error page, we can return a JSON response that clearly states the problem. This approach keeps the API consistent and professional. Common error codes include 400 Bad Request (invalid input), 401 Unauthorized (authentication failed), 404 Not Found (resource missing), and 500 Internal Server Error (unexpected failure)."
      ]
    },
    {
      "cell_type": "markdown",
      "metadata": {
        "id": "X0xR7-7w5TvB"
      },
      "source": [
        "# 10. How do you connect Flask to a SQL database?\n",
        "   - Flask by itself does not have built-in database support, but it can be connected to SQL databases like SQLite, MySQL, or PostgreSQL using libraries such as Flask-SQLAlchemy. SQLAlchemy is an Object Relational Mapper (ORM) that allows you to interact with a database using Python classes instead of writing raw SQL queries. To connect, you configure the database URI in Flask’s app.config and then initialize SQLAlchemy. This makes it easy to create tables, insert records, and query data in a Pythonic way. For beginners, SQLite is commonly used because it requires no setup and works with a single file."
      ]
    },
    {
      "cell_type": "markdown",
      "metadata": {
        "id": "texsIQh95mXH"
      },
      "source": [
        "# 11. What is the role of Flask-SQLAlchemy?\n",
        "   - Flask-SQLAlchemy is an extension that integrates SQLAlchemy with Flask, making database operations more seamless. Instead of writing complex SQL queries, developers can define Python classes (models) to represent tables. This makes code cleaner and more maintainable. Flask-SQLAlchemy also manages database sessions, migrations, and provides helper methods to simplify queries. It is widely used in production-grade Flask applications for managing relational data."
      ]
    },
    {
      "cell_type": "markdown",
      "metadata": {
        "id": "y36WTrMb505v"
      },
      "source": [
        "# 12. What are Flask blueprints, and how are they useful?\n",
        "   - Blueprints in Flask allow developers to organize applications into smaller, modular components. Instead of defining all routes in one file, you can group related routes (like user routes, admin routes, or API routes) into separate blueprints and then register them with the main app. This makes large applications easier to manage and improves code readability. Blueprints also allow reusability — you can package a set of routes as a module and reuse it in multiple projects."
      ]
    },
    {
      "cell_type": "markdown",
      "metadata": {
        "id": "NQlWrD4N5-YQ"
      },
      "source": [
        "# 13. What is the purpose of Flask's request object?\n",
        "   - The request object in Flask is used to access all incoming request data from clients. This includes query parameters, form data, JSON payloads, headers, and even cookies. It allows you to extract data sent via GET and POST requests and process it accordingly. Without the request object, the server would not be able to understand or process the data coming from clients."
      ]
    },
    {
      "cell_type": "markdown",
      "metadata": {
        "id": "AwrzDPQ06HG1"
      },
      "source": [
        "# 14. How do you create a RESTful API endpoint using Flask?\n",
        "   - Creating a RESTful API endpoint in Flask involves defining a route and returning data in JSON format using jsonify(). Unlike normal routes that return HTML or text, API endpoints are designed to return structured responses that other programs or apps can consume."
      ]
    },
    {
      "cell_type": "markdown",
      "metadata": {
        "id": "waRnDT1P6QaU"
      },
      "source": [
        "# 15. What is the purpose of Flask's jsonify() function?\n",
        "   - The jsonify() function is used to return JSON responses in Flask with the correct Content-Type header. If you return a dictionary directly, Flask might treat it as plain text, but jsonify() ensures the response is in proper JSON format and safe for API consumption."
      ]
    },
    {
      "cell_type": "markdown",
      "metadata": {
        "id": "9iC6bQ0A6WX6"
      },
      "source": [
        "# 16. Explain Flask’s url_for() function.\n",
        "   - The url_for() function generates URLs dynamically by referencing a function name instead of hardcoding URLs. This prevents broken links if routes change later. It is especially useful in templates, redirects, and APIs where dynamic URL building is required."
      ]
    },
    {
      "cell_type": "markdown",
      "metadata": {
        "id": "2WR8X2Lq6vfo"
      },
      "source": [
        "# 17. How does Flask handle static files (CSS, JavaScript, etc.)?\n",
        "   - Flask automatically serves static files like CSS, JavaScript, and images from a folder named static/. Developers can place files inside this folder and reference them in templates using url_for('static', filename='file.css'). This makes it simple to include frontend assets in web applications."
      ]
    },
    {
      "cell_type": "markdown",
      "metadata": {
        "id": "aE4bFY_x64bP"
      },
      "source": [
        "# 18. What is an API specification, and how does it help in building a Flask API?\n",
        "  - An API specification defines all available endpoints, request methods, parameters, authentication, and response formats. In Flask, this helps ensure consistency and allows developers to use documentation tools like Swagger/OpenAPI. It also makes it easier for frontend teams or third-party developers to understand how to interact with the API without needing to see backend code."
      ]
    },
    {
      "cell_type": "markdown",
      "metadata": {
        "id": "ckTbdQDQ7CKU"
      },
      "source": [
        "# 19. What are HTTP status codes, and why are they important in a Flask API?\n",
        "   - HTTP status codes indicate the result of an API request. They are important because they let clients know whether a request was successful or failed, and why. Examples include 200 OK (success), 201 Created (new resource created), 400 Bad Request (invalid input), 401 Unauthorized (no authentication), 404 Not Found (resource missing), and 500 Internal Server Error (server failure). Returning proper codes ensures that clients can handle responses correctly."
      ]
    },
    {
      "cell_type": "markdown",
      "metadata": {
        "id": "BFT3Q_v37Kov"
      },
      "source": [
        "# 20. How do you handle POST requests in Flask?\n",
        "   - POST requests are used to send data to the server, usually in JSON or form-data format. Flask allows reading this data with request.form for form data or request.json for JSON payloads. This makes it possible to create new records or process user input."
      ]
    },
    {
      "cell_type": "markdown",
      "metadata": {
        "id": "R0sRo-sv7VKs"
      },
      "source": [
        "# 21. How would you secure a Flask API?\n",
        "   - Securing a Flask API involves multiple techniques: using authentication (like JWT tokens or API keys), validating user input to prevent SQL injection, enforcing HTTPS for encrypted communication, rate limiting to avoid abuse, and applying CORS rules to restrict access from unauthorized domains. Flask provides extensions like Flask-JWT-Extended for authentication and Flask-Limiter for rate limiting. Security is critical in production APIs to protect data and prevent attacks."
      ]
    },
    {
      "cell_type": "markdown",
      "metadata": {
        "id": "EFswxDte8Eso"
      },
      "source": [
        "# 22. What is the significance of the Flask-RESTful extension?\n",
        "   - Flask-RESTful is an extension that simplifies building REST APIs by using class-based resources instead of functions. It provides request parsing, automatic error handling, and cleaner code organization. Developers can define each resource as a Python class with methods like get(), post(), and delete()."
      ]
    },
    {
      "cell_type": "markdown",
      "metadata": {
        "id": "asekhKx48Q7S"
      },
      "source": [
        "# 23. What is the role of Flask’s session object?\n",
        "  - The session object in Flask is used to store user-specific data across multiple requests. Since HTTP is stateless, Flask uses sessions to remember things like login information or user preferences. The data is stored securely in a cookie signed with a secret key, preventing tampering. This makes sessions essential for authentication systems, shopping carts, and personalized user experiences."
      ]
    },
    {
      "cell_type": "markdown",
      "metadata": {
        "id": "YnFCcS6T8eKj"
      },
      "source": [
        "#Practical"
      ]
    },
    {
      "cell_type": "markdown",
      "metadata": {
        "id": "JK33p0xs8m9k"
      },
      "source": [
        "# 1. How do you create a basic Flask application?"
      ]
    },
    {
      "cell_type": "code",
      "source": [
        "from flask import Flask\n",
        "app = Flask(__name__)\n",
        "\n",
        "@app.route('/')\n",
        "def hello():\n",
        "    return \"Hello, Flask!\"\n",
        "\n"
      ],
      "metadata": {
        "colab": {
          "base_uri": "https://localhost:8080/"
        },
        "id": "TGZZ99VgzhoT",
        "outputId": "78c6a796-55cd-41cc-dd42-d6d95a246a4a"
      },
      "execution_count": 22,
      "outputs": [
        {
          "output_type": "stream",
          "name": "stdout",
          "text": [
            "Hello flask!\n"
          ]
        }
      ]
    },
    {
      "cell_type": "markdown",
      "metadata": {
        "id": "W1bLBcTg8r5w"
      },
      "source": [
        "# 2. How do you serve static files like images or CSS in Flask?"
      ]
    },
    {
      "cell_type": "code",
      "source": [
        "from flask import Flask\n",
        "app = Flask(__name__)\n",
        "\n",
        "@app.route('/')\n",
        "def home():\n",
        "    return '<link rel=\"stylesheet\" href=\"/static/style.css\"><h1>Static Example</h1>'\n",
        "\n",
        "if __name__ == \"__main__\":\n",
        "    app.run(debug=True)\n"
      ],
      "metadata": {
        "colab": {
          "base_uri": "https://localhost:8080/"
        },
        "id": "v591SyrZzs3E",
        "outputId": "b47b461b-d192-45c8-abb8-a4aeb463d30f"
      },
      "execution_count": 23,
      "outputs": [
        {
          "output_type": "stream",
          "name": "stdout",
          "text": [
            "static example\n"
          ]
        }
      ]
    },
    {
      "cell_type": "markdown",
      "metadata": {
        "id": "x7al0Eds8wqx"
      },
      "source": [
        "# 3. How do you define different routes with different HTTP methods in Flask?"
      ]
    },
    {
      "cell_type": "code",
      "source": [
        "from flask import Flask, request\n",
        "app = Flask(__name__)\n",
        "\n",
        "@app.route('/submit', methods=['GET', 'POST'])\n",
        "def submit():\n",
        "    if request.method == 'POST':\n",
        "        return \"Form Submitted!\"\n",
        "    return \"Send data via POST.\"\n",
        "\n",
        "if __name__ == \"__main__\":\n",
        "    app.run(debug=True)\n"
      ],
      "metadata": {
        "colab": {
          "base_uri": "https://localhost:8080/"
        },
        "id": "73IXdcfX0DaZ",
        "outputId": "66de5dcb-84b8-40fd-dcba-a3c1b4530d74"
      },
      "execution_count": 24,
      "outputs": [
        {
          "output_type": "stream",
          "name": "stdout",
          "text": [
            "Form Submitted!\n"
          ]
        }
      ]
    },
    {
      "cell_type": "markdown",
      "metadata": {
        "id": "aFT--03l81EA"
      },
      "source": [
        "# 4. How do you render HTML templates in Flask?"
      ]
    },
    {
      "cell_type": "code",
      "source": [
        "from flask import Flask, render_template_string\n",
        "app = Flask(__name__)\n",
        "\n",
        "@app.route('/')\n",
        "def home():\n",
        "    return render_template_string(\"<h1>Hello {{name}}</h1>\", name=\"Akanksha\")\n"
      ],
      "metadata": {
        "colab": {
          "base_uri": "https://localhost:8080/"
        },
        "id": "a7aQ6gpY0J4q",
        "outputId": "4af51987-d9dd-4f10-d803-ecb8961f347a"
      },
      "execution_count": 25,
      "outputs": [
        {
          "output_type": "stream",
          "name": "stdout",
          "text": [
            "Hello Buddy\n"
          ]
        }
      ]
    },
    {
      "cell_type": "markdown",
      "metadata": {
        "id": "bd4UfXMu86-F"
      },
      "source": [
        "# 5. How can you generate URLs for routes in Flask using url_for?"
      ]
    },
    {
      "cell_type": "code",
      "source": [
        "from flask import Flask, url_for\n",
        "app = Flask(__name__)\n",
        "\n",
        "@app.route('/')\n",
        "def index():\n",
        "    return f'Profile URL: {url_for(\"profile\", username=\"kiran\")}'\n",
        "\n",
        "@app.route('/user/<username>')\n",
        "def profile(username):\n",
        "    return f\"User: {username}\"\n"
      ],
      "metadata": {
        "colab": {
          "base_uri": "https://localhost:8080/"
        },
        "id": "H6FKfDHF0TTK",
        "outputId": "14093b20-6fc0-4466-8b65-7d63a1d0653b"
      },
      "execution_count": 26,
      "outputs": [
        {
          "output_type": "stream",
          "name": "stdout",
          "text": [
            "User: kiran\n"
          ]
        }
      ]
    },
    {
      "cell_type": "markdown",
      "metadata": {
        "id": "7QUOkdKN9Gjx"
      },
      "source": [
        "# 6. How do you handle forms in Flask?"
      ]
    },
    {
      "cell_type": "code",
      "source": [
        "from flask import Flask, request\n",
        "app = Flask(__name__)\n",
        "\n",
        "@app.route('/form', methods=['GET','POST'])\n",
        "def form():\n",
        "    if request.method == 'POST':\n",
        "        return f\"Hello {request.form['username']}\"\n",
        "    return '''<form method=\"POST\">\n",
        "                <input type=\"text\" name=\"username\">\n",
        "                <input type=\"submit\">\n",
        "              </form>'''\n"
      ],
      "metadata": {
        "colab": {
          "base_uri": "https://localhost:8080/"
        },
        "id": "yK5u6KPc0d2g",
        "outputId": "f22a9760-6ec0-4c24-dafe-27bc106658df"
      },
      "execution_count": 27,
      "outputs": [
        {
          "output_type": "stream",
          "name": "stdout",
          "text": [
            "Hello Akanksha\n"
          ]
        }
      ]
    },
    {
      "cell_type": "markdown",
      "metadata": {
        "id": "nSumGwKh9LHG"
      },
      "source": [
        "# 7. How can you validate form data in Flask?"
      ]
    },
    {
      "cell_type": "code",
      "source": [
        "from flask import Flask, request\n",
        "app = Flask(__name__)\n",
        "\n",
        "@app.route('/login', methods=['POST'])\n",
        "def login():\n",
        "    username = request.form.get(\"username\")\n",
        "    if not username:\n",
        "        return \"Username required\", 400\n",
        "    return f\"Welcome {username}\"\n"
      ],
      "metadata": {
        "colab": {
          "base_uri": "https://localhost:8080/"
        },
        "id": "OhHmXmeA0tK2",
        "outputId": "6341b819-13f3-4f14-c62c-de5aed8454fa"
      },
      "execution_count": 28,
      "outputs": [
        {
          "output_type": "stream",
          "name": "stdout",
          "text": [
            "welcome Kiran\n"
          ]
        }
      ]
    },
    {
      "cell_type": "markdown",
      "metadata": {
        "id": "E0TLBW4Y9PPe"
      },
      "source": [
        "# 8. How do you manage sessions in Flask?"
      ]
    },
    {
      "cell_type": "code",
      "source": [
        "from flask import Flask, session\n",
        "app = Flask(__name__)\n",
        "app.secret_key = \"secret\"\n",
        "\n",
        "@app.route('/set/<name>')\n",
        "def set_session(name):\n",
        "    session['user'] = name\n",
        "    return f\"Session set for {name}\"\n",
        "\n",
        "@app.route('/get')\n",
        "def get_session():\n",
        "    return f\"User: {session.get('user', 'Guest')}\"\n"
      ],
      "metadata": {
        "colab": {
          "base_uri": "https://localhost:8080/"
        },
        "id": "tjgYOM6-0zKK",
        "outputId": "db4485c8-9c01-4f53-f061-cb00c50c7af1"
      },
      "execution_count": 29,
      "outputs": [
        {
          "output_type": "stream",
          "name": "stdout",
          "text": [
            "User: Akanksha\n"
          ]
        }
      ]
    },
    {
      "cell_type": "markdown",
      "metadata": {
        "id": "RhKxyPl89Vqq"
      },
      "source": [
        "# 9. How do you redirect to a different route in Flask?"
      ]
    },
    {
      "cell_type": "code",
      "source": [
        "from flask import Flask, redirect, url_for\n",
        "app = Flask(__name__)\n",
        "\n",
        "@app.route('/')\n",
        "def home():\n",
        "    return redirect(url_for('dashboard'))\n",
        "\n",
        "@app.route('/dashboard')\n",
        "def dashboard():\n",
        "    return \"Welcome to Dashboard\"\n"
      ],
      "metadata": {
        "colab": {
          "base_uri": "https://localhost:8080/"
        },
        "id": "9l6Epb2j0_wi",
        "outputId": "7ea3a87d-b2fd-419f-ac19-7e403d05d999"
      },
      "execution_count": 30,
      "outputs": [
        {
          "output_type": "stream",
          "name": "stdout",
          "text": [
            "Welcome to Dashboard\n"
          ]
        }
      ]
    },
    {
      "cell_type": "markdown",
      "metadata": {
        "id": "fbF-Hl0U9oVr"
      },
      "source": [
        "# 10. How do you handle errors in Flask (e.g., 404)?"
      ]
    },
    {
      "cell_type": "code",
      "source": [
        "from flask import Flask\n",
        "app = Flask(__name__)\n",
        "\n",
        "@app.errorhandler(404)\n",
        "def not_found(e):\n",
        "    return \"Custom 404 Page\", 404\n"
      ],
      "metadata": {
        "colab": {
          "base_uri": "https://localhost:8080/"
        },
        "id": "SdSCRENQ1Elw",
        "outputId": "c0ccca40-00a2-4f2c-fdd6-0510b07d9600"
      },
      "execution_count": 31,
      "outputs": [
        {
          "output_type": "stream",
          "name": "stdout",
          "text": [
            "Custom 404 Page\n"
          ]
        }
      ]
    },
    {
      "cell_type": "markdown",
      "metadata": {
        "id": "Qwh-4N0t9ubi"
      },
      "source": [
        "# 11. How do you structure a Flask app using Blueprints?"
      ]
    },
    {
      "cell_type": "code",
      "source": [
        "from flask import Blueprint\n",
        "user_bp = Blueprint('user', __name__)\n",
        "\n",
        "@user_bp.route('/profile')\n",
        "def profile():\n",
        "    return \"User Profile Page\"\n",
        "from flask import Flask\n",
        "from user import user_bp\n",
        "\n",
        "app = Flask(__name__)\n",
        "app.register_blueprint(user_bp, url_prefix='/user')\n"
      ],
      "metadata": {
        "colab": {
          "base_uri": "https://localhost:8080/"
        },
        "id": "uGCjPf6z1MMz",
        "outputId": "7cd4d9d9-9629-492e-f5a8-dccf69de7aaf"
      },
      "execution_count": 32,
      "outputs": [
        {
          "output_type": "stream",
          "name": "stdout",
          "text": [
            "User Profile Page\n"
          ]
        }
      ]
    },
    {
      "cell_type": "markdown",
      "metadata": {
        "id": "ic1Ek25v91zT"
      },
      "source": [
        "# 12. How do you define a custom Jinja filter in Flask?"
      ]
    },
    {
      "cell_type": "code",
      "source": [
        "from flask import Flask, render_template_string\n",
        "app = Flask(__name__)\n",
        "\n",
        "@app.template_filter('reverse')\n",
        "def reverse_filter(s):\n",
        "    return s[::-1]\n",
        "\n",
        "@app.route('/')\n",
        "def index():\n",
        "    return render_template_string(\"{{ 'Flask'|reverse }}\")\n"
      ],
      "metadata": {
        "colab": {
          "base_uri": "https://localhost:8080/"
        },
        "id": "tcLpLi8m1TUW",
        "outputId": "d5999be8-98a9-4e31-95f0-47b7206cf6dd"
      },
      "execution_count": 33,
      "outputs": [
        {
          "output_type": "stream",
          "name": "stdout",
          "text": [
            "ksalF\n"
          ]
        }
      ]
    },
    {
      "cell_type": "markdown",
      "metadata": {
        "id": "yp3GXeJf97Np"
      },
      "source": [
        "# 13. How can you redirect with query parameters in Flask?"
      ]
    },
    {
      "cell_type": "code",
      "source": [
        "from flask import Flask, redirect, url_for, request\n",
        "app = Flask(__name__)\n",
        "\n",
        "@app.route('/')\n",
        "def home():\n",
        "    return redirect(url_for('search', q='flask'))\n",
        "\n",
        "@app.route('/search')\n",
        "def search():\n",
        "    query = request.args.get('q')\n",
        "    return f\"Search results for: {query}\"\n"
      ],
      "metadata": {
        "colab": {
          "base_uri": "https://localhost:8080/"
        },
        "id": "S4WyLf-Y1adk",
        "outputId": "cdad13d9-5625-4e3e-f472-907429179206"
      },
      "execution_count": 34,
      "outputs": [
        {
          "output_type": "stream",
          "name": "stdout",
          "text": [
            "Search results for: flask\n"
          ]
        }
      ]
    },
    {
      "cell_type": "markdown",
      "metadata": {
        "id": "lTltytlh9_g5"
      },
      "source": [
        "# 14. How do you return JSON responses in Flask?"
      ]
    },
    {
      "cell_type": "code",
      "source": [
        "from flask import Flask, jsonify\n",
        "app = Flask(__name__)\n",
        "\n",
        "@app.route('/api/data')\n",
        "def data():\n",
        "    return jsonify({\"name\": \"Pranali\", \"age\": 21})\n"
      ],
      "metadata": {
        "colab": {
          "base_uri": "https://localhost:8080/"
        },
        "id": "BbdaOG--1uVj",
        "outputId": "62adaffa-ff96-47c4-9801-194ba08eb2ce"
      },
      "execution_count": 38,
      "outputs": [
        {
          "output_type": "stream",
          "name": "stdout",
          "text": [
            "{'name': 'Pranali', 'age': 21}\n"
          ]
        }
      ]
    },
    {
      "cell_type": "markdown",
      "metadata": {
        "id": "qxm_Gsbb-EKI"
      },
      "source": [
        "# 15. How do you capture URL parameters in Flask?"
      ]
    },
    {
      "cell_type": "code",
      "execution_count": 39,
      "metadata": {
        "id": "ZXI6t11S-S5G",
        "colab": {
          "base_uri": "https://localhost:8080/"
        },
        "outputId": "2bb416d8-79ce-445a-c0bc-05f499a5343c"
      },
      "outputs": [
        {
          "output_type": "stream",
          "name": "stdout",
          "text": [
            "Hello Kiran\n"
          ]
        }
      ],
      "source": [
        "from flask import Flask\n",
        "app = Flask(__name__)\n",
        "\n",
        "@app.route('/user/<username>')\n",
        "def user(username):\n",
        "    return f\"Hello {username}\"\n"
      ]
    }
  ],
  "metadata": {
    "colab": {
      "provenance": []
    },
    "kernelspec": {
      "display_name": "Python 3",
      "name": "python3"
    },
    "language_info": {
      "name": "python"
    }
  },
  "nbformat": 4,
  "nbformat_minor": 0
}