{
  "nbformat": 4,
  "nbformat_minor": 0,
  "metadata": {
    "colab": {
      "provenance": []
    },
    "kernelspec": {
      "name": "python3",
      "display_name": "Python 3"
    },
    "language_info": {
      "name": "python"
    }
  },
  "cells": [
    {
      "cell_type": "markdown",
      "source": [
        "#Statistics Basics"
      ],
      "metadata": {
        "id": "cwoHyCbHMIJI"
      }
    },
    {
      "cell_type": "markdown",
      "source": [
        "# 1. What is the difference between descriptive statistics and inferential statistics? Explain with examples.\n",
        "  - Statistics is a science of collecting, analyzing, and interpreting data, and it can be divided into descriptive and inferential statistics. Descriptive statistics focuses on summarizing and describing the features of a dataset in a clear and understandable way. It uses tools such as measures of central tendency (mean, median, mode), measures of dispersion (range, variance, standard deviation), and graphical techniques (bar charts, histograms, pie charts, and boxplots). For example, if a teacher collects the marks of 50 students in a class and finds the average to be 72, the median to be 75, and the mode to be 78, these figures represent descriptive statistics, since they only describe the given data and do not make predictions about other students. Inferential statistics, however, goes beyond describing the available data. It uses a sample from a population to make predictions, decisions, or generalizations about the entire population. Inferential techniques include hypothesis testing, regression analysis, correlation, and confidence intervals. For example, instead of measuring the marks of all students in a university, a researcher might take a random sample of 200 students and use that information to estimate the average performance of the entire student body. Inferential statistics involves uncertainty, so probability plays a key role in determining the reliability of conclusions. To summarize, descriptive statistics tells us “what the data shows,” while inferential statistics allows us to “predict beyond the data,” making it a crucial tool in research and decision-making."
      ],
      "metadata": {
        "id": "8tWDbkRuJB3H"
      }
    },
    {
      "cell_type": "markdown",
      "source": [
        "# 2. What is sampling in statistics? Explain the differences between random and stratified sampling.\n",
        "  -In statistics, it is often impossible to study an entire population because of its size, cost, or time constraints. Sampling is the process of selecting a smaller group (sample) from the population in such a way that the sample accurately represents the entire group. If done properly, conclusions drawn from the sample can be generalized to the entire population. Random sampling is one of the most common methods, where each individual in the population has an equal chance of being selected. This ensures fairness and reduces selection bias. For example, if a company has 5,000 employees and wants to conduct a job satisfaction survey, it might randomly select 200 employees so that every employee has the same probability of being chosen. Stratified sampling, however, divides the population into smaller groups (strata) based on shared characteristics such as age, gender, or education level, and then samples are taken proportionally from each group. This ensures that all subgroups are represented in the final sample. For example, in a school where 60% of students are boys and 40% are girls, if the researcher wants to select 100 students, they will take 60 boys and 40 girls, ensuring representation of both groups. While random sampling works well for homogeneous populations, stratified sampling is better for heterogeneous populations where different groups must be represented."
      ],
      "metadata": {
        "id": "ZDVsbnKtJYox"
      }
    },
    {
      "cell_type": "markdown",
      "source": [
        "# 3. Define mean, median, and mode. Explain why these measures of central tendency are important.\n",
        "   - The measures of central tendency — mean, median, and mode — are used to describe the “center” or the typical value of a dataset. The mean is the arithmetic average, calculated by dividing the sum of all observations by the number of values. For example, if the test scores of five students are 60, 70, 75, 80, and 85, the mean score is (60 + 70 + 75 + 80 + 85) ÷ 5 = 74. The median is the middle value when the data is arranged in order. In the same example, the median is 75, since it is the middle score. If the dataset had an even number of observations, the median would be the average of the two middle values. The mode is the most frequently occurring value in a dataset. For example, in the dataset [10, 15, 15, 20, 25], the mode is 15, since it appears most often. These measures are important because they summarize large datasets into single representative values, making them easier to interpret and compare. They are widely used in various fields such as economics, psychology, sociology, and business. For instance, companies may use the mean to calculate the average salary, the median to determine a typical household income (which is less affected by extreme values), and the mode to identify the most popular product sold. Together, these measures provide a more complete understanding of the dataset’s distribution."
      ],
      "metadata": {
        "id": "3DIwzEWeJxU-"
      }
    },
    {
      "cell_type": "markdown",
      "source": [
        "# 4. Explain skewness and kurtosis. What does a positive skew imply about the data?\n",
        "  - When analyzing a dataset, it is not enough to know the central values; we must also understand its distribution shape. Skewness measures the asymmetry of a dataset’s distribution. A perfectly symmetrical dataset has zero skewness. A positively skewed distribution (right skew) has a long tail extending toward higher values, meaning most of the data is clustered at the lower end but there are some extremely high values pulling the mean to the right. Income distribution is a common example, where most people earn moderate incomes, but a few high earners raise the average. A negatively skewed distribution (left skew) has a long tail toward lower values, with most data concentrated at higher values. Retirement age is an example, where most people retire around 60–65, but a few may retire very early, creating a left skew. Kurtosis, on the other hand, measures the \"peakedness\" of a distribution compared to a normal distribution. High kurtosis (leptokurtic) means more extreme values and heavier tails, while low kurtosis (platykurtic) means a flatter distribution with fewer outliers. A positive skew specifically indicates that the dataset has mostly small or moderate values but includes a few very large values, which increases the mean and stretches the right side of the distribution. This can mislead interpretations if only the mean is considered. For example, a company reporting the mean income of employees in a positively skewed dataset may appear to pay higher salaries than what the majority of employees actually earn."
      ],
      "metadata": {
        "id": "TtQ793SSKDX1"
      }
    },
    {
      "cell_type": "markdown",
      "source": [
        "# 5.  Implement a Python program to compute the mean, median, and mode of a given list of numbers.\n",
        "# numbers = [12, 15, 12, 18, 19, 12, 20, 22, 19, 19, 24, 24, 24, 26, 28]\n",
        "  -"
      ],
      "metadata": {
        "id": "5r7PsQaUKSYK"
      }
    },
    {
      "cell_type": "code",
      "source": [
        "import numpy as np\n",
        "from collections import Counter\n",
        "\n",
        "numbers = [12, 15, 12, 18, 19, 12, 20, 22, 19, 19, 24, 24, 24, 26, 28]\n",
        "\n",
        "# Mean and Median using NumPy\n",
        "mean_val = np.mean(numbers)\n",
        "median_val = np.median(numbers)\n",
        "\n",
        "# Mode using Counter\n",
        "mode_val = Counter(numbers).most_common(1)[0][0]\n",
        "\n",
        "print(\"Mean:\", mean_val)\n",
        "print(\"Median:\", median_val)\n",
        "print(\"Mode:\", mode_val)\n"
      ],
      "metadata": {
        "colab": {
          "base_uri": "https://localhost:8080/"
        },
        "id": "DwdwWW6cQCUW",
        "outputId": "0fa52a4e-d85c-4a47-929e-57db36b5ace2"
      },
      "execution_count": 7,
      "outputs": [
        {
          "output_type": "stream",
          "name": "stdout",
          "text": [
            "Mean: 19.6\n",
            "Median: 19.0\n",
            "Mode: 12\n"
          ]
        }
      ]
    },
    {
      "cell_type": "markdown",
      "source": [
        "# 6. Compute the covariance and correlation coefficient between the following two datasets provided as lists in Python:\n",
        "# list_x = [10, 20, 30, 40, 50]\n",
        "# list_y = [15, 25, 35, 45, 60]"
      ],
      "metadata": {
        "id": "w03-sNovK0kZ"
      }
    },
    {
      "cell_type": "code",
      "source": [
        "import pandas as pd\n",
        "\n",
        "list_x = [10, 20, 30, 40, 50]\n",
        "list_y = [15, 25, 35, 45, 60]\n",
        "\n",
        "df = pd.DataFrame({'X': list_x, 'Y': list_y})\n",
        "\n",
        "# Covariance matrix\n",
        "covariance = df.cov().iloc[0,1]\n",
        "\n",
        "# Correlation matrix\n",
        "correlation = df.corr().iloc[0,1]\n",
        "\n",
        "print(\"Covariance:\", covariance)\n",
        "print(\"Correlation:\", correlation)\n"
      ],
      "metadata": {
        "colab": {
          "base_uri": "https://localhost:8080/"
        },
        "id": "cv2gTu3qQE1G",
        "outputId": "d500f10e-32b4-471e-f3e2-5c5c3d3eef00"
      },
      "execution_count": 8,
      "outputs": [
        {
          "output_type": "stream",
          "name": "stdout",
          "text": [
            "Covariance: 275.0\n",
            "Correlation: 0.9958932064677039\n"
          ]
        }
      ]
    },
    {
      "cell_type": "markdown",
      "source": [
        "# 7. Write a Python script to draw a boxplot for the following numeric list and identify its outliers. Explain the result:\n",
        "# data = [12, 14, 14, 15, 18, 19, 19, 21, 22, 22, 23, 23, 24, 26, 29, 35]"
      ],
      "metadata": {
        "id": "LZ5lR0BNLAry"
      }
    },
    {
      "cell_type": "code",
      "source": [
        "import seaborn as sns\n",
        "import matplotlib.pyplot as plt\n",
        "\n",
        "data = [12, 14, 14, 15, 18, 19, 19, 21, 22, 22, 23, 23, 24, 26, 29, 35]\n",
        "\n",
        "sns.boxplot(data=data)\n",
        "plt.title(\"Boxplot with Outlier Detection\")\n",
        "plt.show()\n"
      ],
      "metadata": {
        "colab": {
          "base_uri": "https://localhost:8080/",
          "height": 433
        },
        "id": "gAjYidJPQIpw",
        "outputId": "2a1d448a-2a66-40a2-897c-f03453224e2e"
      },
      "execution_count": 9,
      "outputs": [
        {
          "output_type": "display_data",
          "data": {
            "text/plain": [
              "<Figure size 640x480 with 1 Axes>"
            ],
            "image/png": "[encoded data removed]"
          },
          "metadata": {}
        }
      ]
    },
    {
      "cell_type": "markdown",
      "source": [
        "# 8. You are working as a data analyst in an e-commerce company. The marketing team wants to know if there is a relationship between advertising spend and daily sales.\n",
        "# ● Explain how you would use covariance and correlation to explore this\n",
        "# relationship.\n",
        "# ● Write Python code to compute the correlation between the two lists:\n",
        "# advertising_spend = [200, 250, 300, 400, 500]   \n",
        "# daily_sales = [2200, 2450, 2750, 3200, 4000]"
      ],
      "metadata": {
        "id": "8o8y0aajLM9f"
      }
    },
    {
      "cell_type": "code",
      "source": [
        "from scipy.stats import pearsonr\n",
        "\n",
        "advertising_spend = [200, 250, 300, 400, 500]\n",
        "daily_sales = [2200, 2450, 2750, 3200, 4000]\n",
        "\n",
        "corr, p_value = pearsonr(advertising_spend, daily_sales)\n",
        "\n",
        "print(\"Correlation Coefficient:\", corr)\n",
        "print(\"P-value:\", p_value)\n"
      ],
      "metadata": {
        "colab": {
          "base_uri": "https://localhost:8080/"
        },
        "id": "z30EDcc3QN8x",
        "outputId": "5821305a-3653-48ed-a61c-d081150fdd43"
      },
      "execution_count": 10,
      "outputs": [
        {
          "output_type": "stream",
          "name": "stdout",
          "text": [
            "Correlation Coefficient: 0.9935824101653328\n",
            "P-value: 0.0006165570704987909\n"
          ]
        }
      ]
    },
    {
      "cell_type": "markdown",
      "source": [
        "# 9. Your team has collected customer satisfaction survey data on a scale of\n",
        "# 1-10 and wants to understand its distribution before launching a new product.\n",
        "# ● Explain which summary statistics and visualizations (e.g. mean, standard\n",
        "# deviation, histogram) you’d use.\n",
        "# ● Write Python code to create a histogram using Matplotlib for the survey data:\n",
        "# survey_scores = [7, 8, 5, 9, 6, 7, 8, 9, 10, 4, 7, 6, 9, 8, 7]"
      ],
      "metadata": {
        "id": "42Ae1cP5Lnrg"
      }
    },
    {
      "cell_type": "code",
      "source": [
        "import numpy as np\n",
        "import matplotlib.pyplot as plt\n",
        "\n",
        "survey_scores = [7, 8, 5, 9, 6, 7, 8, 9, 10, 4, 7, 6, 9, 8, 7]\n",
        "\n",
        "mean_val = np.mean(survey_scores)\n",
        "std_dev = np.std(survey_scores)\n",
        "\n",
        "print(\"Mean:\", mean_val)\n",
        "print(\"Standard Deviation:\", std_dev)\n",
        "\n",
        "# Alternative visualization: frequency bar plot\n",
        "unique, counts = np.unique(survey_scores, return_counts=True)\n",
        "plt.bar(unique, counts, color=\"lightgreen\", edgecolor=\"black\")\n",
        "plt.title(\"Survey Score Frequency Distribution\")\n",
        "plt.xlabel(\"Score\")\n",
        "plt.ylabel(\"Count\")\n",
        "plt.show()\n"
      ],
      "metadata": {
        "colab": {
          "base_uri": "https://localhost:8080/",
          "height": 507
        },
        "id": "c0EpVSNnQSB6",
        "outputId": "175cebf4-fd71-42e3-a821-bfadef645886"
      },
      "execution_count": 11,
      "outputs": [
        {
          "output_type": "stream",
          "name": "stdout",
          "text": [
            "Mean: 7.333333333333333\n",
            "Standard Deviation: 1.577621275493231\n"
          ]
        },
        {
          "output_type": "display_data",
          "data": {
            "text/plain": [
              "<Figure size 640x480 with 1 Axes>"
            ],
            "image/png": "[encoded data removed]"
          },
          "metadata": {}
        }
      ]
    }
  ]
}